{
  "nbformat": 4,
  "nbformat_minor": 0,
  "metadata": {
    "colab": {
      "provenance": [],
      "include_colab_link": true
    },
    "kernelspec": {
      "name": "python3",
      "display_name": "Python 3"
    },
    "language_info": {
      "name": "python"
    }
  },
  "cells": [
    {
      "cell_type": "markdown",
      "metadata": {
        "id": "view-in-github",
        "colab_type": "text"
      },
      "source": [
        "<a href=\"https://colab.research.google.com/github/Cristian1133/superstoredataset/blob/main/superstoredataset.ipynb\" target=\"_parent\"><img src=\"https://colab.research.google.com/assets/colab-badge.svg\" alt=\"Open In Colab\"/></a>"
      ]
    },
    {
      "cell_type": "code",
      "execution_count": null,
      "metadata": {
        "id": "_h2_aREGWlN3"
      },
      "outputs": [],
      "source": [
        "import pandas as pd\n",
        "import matplotlib.pyplot as plt\n",
        "import seaborn as sns"
      ]
    },
    {
      "source": [
        "# Leer un archivo CSV, especificando la codificación\n",
        "df = pd.read_csv(\"superstore.csv\", encoding='latin-1')  # o 'ISO-8859-1', dependiendo de la codificación real del archivo\n",
        "df\n",
        "\n",
        "# Escribir en un archivo CSV\n",
        "df.to_csv(\"salida.csv\", index=False)\n",
        "df"
      ],
      "cell_type": "code",
      "metadata": {
        "id": "tTp89o_AYWy0",
        "collapsed": true
      },
      "execution_count": null,
      "outputs": []
    },
    {
      "cell_type": "code",
      "source": [
        "df.isnull().sum()"
      ],
      "metadata": {
        "id": "CU80sVjjZH9J"
      },
      "execution_count": null,
      "outputs": []
    },
    {
      "cell_type": "code",
      "source": [
        "df[\"Order Date\"] = pd.to_datetime(df[\"Order Date\"])\n",
        "df[\"Ship Date\"] = pd.to_datetime(df[\"Ship Date\"])\n",
        "df[\"Hour\"] = df[\"Order Date\"].dt.hour\n",
        "df[\"Day\"] = df[\"Order Date\"].dt.day\n",
        "df[\"Month\"] = df[\"Order Date\"].dt.month\n",
        "df[\"Year\"] = df[\"Order Date\"].dt.year\n",
        "df"
      ],
      "metadata": {
        "id": "76AGgyfNZUf_"
      },
      "execution_count": null,
      "outputs": []
    },
    {
      "cell_type": "code",
      "source": [
        "\n",
        "plt.figure(figsize=(10, 6))\n",
        "sns.barplot(x=\"Month\", y=\"Sales\", data=df, estimator=sum)\n",
        "plt.title(\"Ventas Mensuales\")\n",
        "plt.xlabel(\"Mes\")\n",
        "plt.ylabel(\"Ventas\")\n",
        "plt.show()"
      ],
      "metadata": {
        "id": "-1xkzy4saYu3"
      },
      "execution_count": null,
      "outputs": []
    },
    {
      "cell_type": "code",
      "source": [
        "plt.figure(figsize=(10, 6))\n",
        "sns.barplot(x=\"Day\", y=\"Sales\", data=df, estimator=sum)\n",
        "plt.title(\"Ventas diarias\")\n",
        "plt.xlabel(\"Dia\")\n",
        "plt.ylabel(\"Ventas\")\n",
        "plt.show()"
      ],
      "metadata": {
        "id": "_ayIKuNublj0"
      },
      "execution_count": null,
      "outputs": []
    },
    {
      "cell_type": "code",
      "source": [
        "plt.figure(figsize=(10, 6))\n",
        "sns.barplot(x=\"Year\", y=\"Sales\", data=df, estimator=sum)\n",
        "plt.title(\"Ventas anuales\")\n",
        "plt.xlabel(\"año\")\n",
        "plt.ylabel(\"Ventas\")\n",
        "plt.show()"
      ],
      "metadata": {
        "id": "L7VKHtkTb3bc"
      },
      "execution_count": null,
      "outputs": []
    }
  ]
}